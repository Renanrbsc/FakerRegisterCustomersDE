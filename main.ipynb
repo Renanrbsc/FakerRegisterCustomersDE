{
 "cells": [
  {
   "cell_type": "code",
   "execution_count": 1,
   "id": "e493b423",
   "metadata": {},
   "outputs": [],
   "source": [
    "import pyspark.sql.types as t\n",
    "import pyspark.sql.functions as f\n",
    "\n",
    "from pyspark.sql import SparkSession\n",
    "\n",
    "from model_customer import ModelCustomer"
   ]
  },
  {
   "cell_type": "code",
   "execution_count": 2,
   "id": "86a01982",
   "metadata": {},
   "outputs": [],
   "source": [
    "spark = SparkSession.builder.getOrCreate()"
   ]
  },
  {
   "cell_type": "code",
   "execution_count": 3,
   "id": "7190be5e",
   "metadata": {},
   "outputs": [],
   "source": [
    "personal_info_list = ModelCustomer.generate_personal_info(50)\n",
    "schema = t.StructType([t.StructField(\"name\", t.StringType()),\n",
    "                      t.StructField(\"lastname\", t.StringType()),\n",
    "                      t.StructField(\"email\", t.StringType()),\n",
    "                      t.StructField(\"phone\", t.StringType()),\n",
    "                      t.StructField(\"document\", t.StringType()),\n",
    "                      t.StructField(\"age\", t.IntegerType()),\n",
    "                      t.StructField(\"height\", t.IntegerType()),\n",
    "                      t.StructField(\"weight\", t.IntegerType()),\n",
    "                      t.StructField(\"country\", t.StringType())])\n",
    "df_customers = spark.createDataFrame(personal_info_list, schema)"
   ]
  },
  {
   "cell_type": "code",
   "execution_count": 4,
   "id": "a8051bf6",
   "metadata": {},
   "outputs": [
    {
     "name": "stdout",
     "output_type": "stream",
     "text": [
      "+----------+---------+--------------------+-------------------+--------------+---+------+------+-------+\n",
      "|      name| lastname|               email|              phone|      document|age|height|weight|country|\n",
      "+----------+---------+--------------------+-------------------+--------------+---+------+------+-------+\n",
      "|Davi Lucca|    Nunes|  rjesus@example.org|   +55 41 3808-6217|981.642.735-46| 63|   176|   121|  pt_BR|\n",
      "|       Luc|   Gallet|genevieve05@examp...|  +33 4 57 92 27 66|     404197030| 61|   153|    61|  fr_FR|\n",
      "|    Murilo|  Freitas|isabel22@example.net|    (081) 9609 3348|308.912.467-03| 24|   176|   144|  pt_BR|\n",
      "|    Daniel|     Pace|carolinebryant@ex...|    +1-279-868-5462|   841-77-7816| 50|   208|    97|  en_US|\n",
      "|Frédérique|    Leduc|torresrenee@examp...|  +33 3 55 41 02 20|     134032115| 70|   216|    97|  fr_FR|\n",
      "|     Marie| Delattre|    jroy@example.net|         0245388239|     802863641| 33|   209|    61|  fr_FR|\n",
      "|      Inès|    Lecoq|valentinadele@exa...|         0443532223|     599522059| 46|   169|   117|  fr_FR|\n",
      "|   Heather|    Baker|  tina43@example.com|       774-908-1255|   064-22-6077| 26|   198|    48|  en_US|\n",
      "|    Thiago|   Barros|ana-beatrizrodrig...|+55 (081) 7433 6369|425.387.096-10| 70|   177|    81|  pt_BR|\n",
      "|   Gregory|Velazquez|rogerskayla@examp...|      (887)223-8720|   667-52-7674| 68|   197|   110|  en_US|\n",
      "+----------+---------+--------------------+-------------------+--------------+---+------+------+-------+\n",
      "only showing top 10 rows\n",
      "\n"
     ]
    }
   ],
   "source": [
    "df_customers.show(10)"
   ]
  },
  {
   "cell_type": "code",
   "execution_count": 5,
   "id": "0ce064c4",
   "metadata": {
    "scrolled": false
   },
   "outputs": [],
   "source": [
    "list_validated_customers = ModelCustomer.load_customers(df_customers)\n",
    "df_validated_customers = spark.createDataFrame(list_validated_customers)"
   ]
  },
  {
   "cell_type": "code",
   "execution_count": 6,
   "id": "ff460da5",
   "metadata": {
    "scrolled": true
   },
   "outputs": [
    {
     "data": {
      "text/plain": [
       "['age',\n",
       " 'check_valid_document',\n",
       " 'check_valid_email',\n",
       " 'check_valid_phone',\n",
       " 'country',\n",
       " 'document',\n",
       " 'email',\n",
       " 'height',\n",
       " 'lastname',\n",
       " 'name',\n",
       " 'phone',\n",
       " 'type_document',\n",
       " 'weight']"
      ]
     },
     "execution_count": 6,
     "metadata": {},
     "output_type": "execute_result"
    }
   ],
   "source": [
    "df_validated_customers.columns"
   ]
  },
  {
   "cell_type": "code",
   "execution_count": 7,
   "id": "3c033a42",
   "metadata": {},
   "outputs": [
    {
     "data": {
      "text/plain": [
       "50"
      ]
     },
     "execution_count": 7,
     "metadata": {},
     "output_type": "execute_result"
    }
   ],
   "source": [
    "df_validated_customers.count()"
   ]
  },
  {
   "cell_type": "code",
   "execution_count": 8,
   "id": "b9e0983f",
   "metadata": {},
   "outputs": [],
   "source": [
    "# Check Invalid phone customers"
   ]
  },
  {
   "cell_type": "code",
   "execution_count": 9,
   "id": "9ba77b73",
   "metadata": {
    "scrolled": true
   },
   "outputs": [
    {
     "data": {
      "text/plain": [
       "14"
      ]
     },
     "execution_count": 9,
     "metadata": {},
     "output_type": "execute_result"
    }
   ],
   "source": [
    "df_invalid_phone_customers = df_validated_customers.filter(f.col('check_valid_phone') == False)\n",
    "df_invalid_phone_customers.count()"
   ]
  },
  {
   "cell_type": "code",
   "execution_count": 10,
   "id": "f555c227",
   "metadata": {
    "scrolled": false
   },
   "outputs": [
    {
     "name": "stdout",
     "output_type": "stream",
     "text": [
      "+------------------+-------+-----------------+\n",
      "|             phone|country|check_valid_phone|\n",
      "+------------------+-------+-----------------+\n",
      "|   195463874555244|  en_US|            false|\n",
      "|001896569054158140|  en_US|            false|\n",
      "|    14561650567887|  en_US|            false|\n",
      "|      330479183488|  fr_FR|            false|\n",
      "|    17673041237981|  en_US|            false|\n",
      "|      330533937638|  fr_FR|            false|\n",
      "|   161781431829427|  en_US|            false|\n",
      "|    39337042788216|  en_US|            false|\n",
      "|      330470828050|  fr_FR|            false|\n",
      "|   231823078440572|  en_US|            false|\n",
      "|  0010568659246830|  en_US|            false|\n",
      "|    51099171503352|  en_US|            false|\n",
      "|     0356419267095|  en_US|            false|\n",
      "|    12835249462137|  en_US|            false|\n",
      "+------------------+-------+-----------------+\n",
      "\n"
     ]
    }
   ],
   "source": [
    "df_invalid_phone_customers.select(f.col('phone'), f.col('country'), f.col('check_valid_phone')).show()"
   ]
  },
  {
   "cell_type": "code",
   "execution_count": 11,
   "id": "9dd706c7",
   "metadata": {},
   "outputs": [],
   "source": [
    "# Check Valid phone customers"
   ]
  },
  {
   "cell_type": "code",
   "execution_count": 12,
   "id": "4efc44ea",
   "metadata": {},
   "outputs": [
    {
     "data": {
      "text/plain": [
       "36"
      ]
     },
     "execution_count": 12,
     "metadata": {},
     "output_type": "execute_result"
    }
   ],
   "source": [
    "df_valid_phone_customers = df_validated_customers.filter(f.col('check_valid_phone') == True)\n",
    "df_valid_phone_customers.count()"
   ]
  },
  {
   "cell_type": "code",
   "execution_count": 13,
   "id": "55818786",
   "metadata": {},
   "outputs": [
    {
     "name": "stdout",
     "output_type": "stream",
     "text": [
      "+-------------+-------+-----------------+\n",
      "|        phone|country|check_valid_phone|\n",
      "+-------------+-------+-----------------+\n",
      "| 554138086217|  pt_BR|             true|\n",
      "|  33457922766|  fr_FR|             true|\n",
      "|  08196093348|  pt_BR|             true|\n",
      "|  12798685462|  en_US|             true|\n",
      "|  33355410220|  fr_FR|             true|\n",
      "|   0245388239|  fr_FR|             true|\n",
      "|   0443532223|  fr_FR|             true|\n",
      "|   7749081255|  en_US|             true|\n",
      "|5508174336369|  pt_BR|             true|\n",
      "|   8872238720|  en_US|             true|\n",
      "|  09007586811|  pt_BR|             true|\n",
      "|   1343891884|  en_US|             true|\n",
      "|   0456478021|  fr_FR|             true|\n",
      "|   0272442722|  fr_FR|             true|\n",
      "|   0367089564|  fr_FR|             true|\n",
      "|   1176757842|  pt_BR|             true|\n",
      "|5501188728165|  pt_BR|             true|\n",
      "|  33559730301|  fr_FR|             true|\n",
      "|   6110409161|  pt_BR|             true|\n",
      "|   0143413621|  fr_FR|             true|\n",
      "+-------------+-------+-----------------+\n",
      "only showing top 20 rows\n",
      "\n"
     ]
    }
   ],
   "source": [
    "df_valid_phone_customers.select(f.col('phone'), f.col('country'), f.col('check_valid_phone')).show()"
   ]
  },
  {
   "cell_type": "code",
   "execution_count": 14,
   "id": "6f34f675",
   "metadata": {},
   "outputs": [],
   "source": [
    "# Check Invalid document customers"
   ]
  },
  {
   "cell_type": "code",
   "execution_count": 15,
   "id": "21f92677",
   "metadata": {
    "scrolled": true
   },
   "outputs": [
    {
     "data": {
      "text/plain": [
       "36"
      ]
     },
     "execution_count": 15,
     "metadata": {},
     "output_type": "execute_result"
    }
   ],
   "source": [
    "df_invalid_document_customers = df_validated_customers.filter(f.col('check_valid_document') == False)\n",
    "df_invalid_document_customers.count()"
   ]
  },
  {
   "cell_type": "code",
   "execution_count": 16,
   "id": "8641e0d4",
   "metadata": {},
   "outputs": [
    {
     "name": "stdout",
     "output_type": "stream",
     "text": [
      "+---------+-------------+--------------------+-------+\n",
      "| document|type_document|check_valid_document|country|\n",
      "+---------+-------------+--------------------+-------+\n",
      "|404197030|         null|               false|  fr_FR|\n",
      "|841777816|         null|               false|  en_US|\n",
      "|134032115|         null|               false|  fr_FR|\n",
      "|802863641|         null|               false|  fr_FR|\n",
      "|599522059|         null|               false|  fr_FR|\n",
      "|064226077|         null|               false|  en_US|\n",
      "|667527674|         null|               false|  en_US|\n",
      "|303668465|         null|               false|  en_US|\n",
      "|584312212|         null|               false|  en_US|\n",
      "|597942358|         null|               false|  fr_FR|\n",
      "|180036037|         null|               false|  fr_FR|\n",
      "|211244814|         null|               false|  fr_FR|\n",
      "|459339495|         null|               false|  en_US|\n",
      "|369167099|         null|               false|  en_US|\n",
      "|750570392|         null|               false|  fr_FR|\n",
      "|546392201|         null|               false|  fr_FR|\n",
      "|350401683|         null|               false|  en_US|\n",
      "|296057565|         null|               false|  fr_FR|\n",
      "|590334996|         null|               false|  en_US|\n",
      "|139929136|         null|               false|  fr_FR|\n",
      "+---------+-------------+--------------------+-------+\n",
      "only showing top 20 rows\n",
      "\n"
     ]
    }
   ],
   "source": [
    "df_invalid_document_customers.select(f.col('document'), f.col('type_document'), f.col('check_valid_document'), f.col('country')).show()"
   ]
  },
  {
   "cell_type": "code",
   "execution_count": 17,
   "id": "3d6d4b7a",
   "metadata": {},
   "outputs": [],
   "source": [
    "# Check Valid document customers"
   ]
  },
  {
   "cell_type": "code",
   "execution_count": 18,
   "id": "dcf35b54",
   "metadata": {
    "scrolled": true
   },
   "outputs": [
    {
     "data": {
      "text/plain": [
       "14"
      ]
     },
     "execution_count": 18,
     "metadata": {},
     "output_type": "execute_result"
    }
   ],
   "source": [
    "df_valid_document_customers = df_validated_customers.filter(f.col('check_valid_document') == True)\n",
    "df_valid_document_customers.count()"
   ]
  },
  {
   "cell_type": "code",
   "execution_count": 19,
   "id": "a7482800",
   "metadata": {},
   "outputs": [
    {
     "name": "stdout",
     "output_type": "stream",
     "text": [
      "+--------------+-------------+--------------------+-------+\n",
      "|      document|type_document|check_valid_document|country|\n",
      "+--------------+-------------+--------------------+-------+\n",
      "|   98164273546|          CPF|                true|  pt_BR|\n",
      "|   30891246703|          CPF|                true|  pt_BR|\n",
      "|   42538709610|          CPF|                true|  pt_BR|\n",
      "|21568409000189|         CNPJ|                true|  pt_BR|\n",
      "|17306482000105|         CNPJ|                true|  pt_BR|\n",
      "|43175928000110|         CNPJ|                true|  pt_BR|\n",
      "|76389401000147|         CNPJ|                true|  pt_BR|\n",
      "|31809246000132|         CNPJ|                true|  pt_BR|\n",
      "|34691850000103|         CNPJ|                true|  pt_BR|\n",
      "|   25013789621|          CPF|                true|  pt_BR|\n",
      "|   13604798566|          CPF|                true|  pt_BR|\n",
      "|   41729503616|          CPF|                true|  pt_BR|\n",
      "|   54319082605|          CPF|                true|  pt_BR|\n",
      "|   40751623970|          CPF|                true|  pt_BR|\n",
      "+--------------+-------------+--------------------+-------+\n",
      "\n"
     ]
    }
   ],
   "source": [
    "df_valid_document_customers.select(f.col('document'), f.col('type_document'), f.col('check_valid_document'), f.col('country')).show()"
   ]
  }
 ],
 "metadata": {
  "kernelspec": {
   "display_name": "Python 3 (ipykernel)",
   "language": "python",
   "name": "python3"
  },
  "language_info": {
   "codemirror_mode": {
    "name": "ipython",
    "version": 3
   },
   "file_extension": ".py",
   "mimetype": "text/x-python",
   "name": "python",
   "nbconvert_exporter": "python",
   "pygments_lexer": "ipython3",
   "version": "3.9.13"
  }
 },
 "nbformat": 4,
 "nbformat_minor": 5
}
